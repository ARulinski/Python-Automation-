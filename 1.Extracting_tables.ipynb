{
 "cells": [
  {
   "cell_type": "markdown",
   "id": "37a2231e-ce29-491e-b367-1c25ddb184b6",
   "metadata": {},
   "source": [
    "# Extracting Tables from websites using Pytohon"
   ]
  },
  {
   "cell_type": "markdown",
   "id": "b1deb20c-919b-4fd5-a493-e9b49901cbf0",
   "metadata": {},
   "source": [
    "Install Pandas "
   ]
  },
  {
   "cell_type": "code",
   "execution_count": 5,
   "id": "6e23c84b-dbc2-4329-bc15-845eecc6e6c2",
   "metadata": {},
   "outputs": [
    {
     "name": "stdout",
     "output_type": "stream",
     "text": [
      "Requirement already satisfied: pandas in /opt/homebrew/lib/python3.11/site-packages (2.1.2)\n",
      "Requirement already satisfied: numpy<2,>=1.23.2 in /opt/homebrew/lib/python3.11/site-packages (from pandas) (1.26.1)\n",
      "Requirement already satisfied: python-dateutil>=2.8.2 in /opt/homebrew/lib/python3.11/site-packages (from pandas) (2.8.2)\n",
      "Requirement already satisfied: pytz>=2020.1 in /opt/homebrew/lib/python3.11/site-packages (from pandas) (2023.3.post1)\n",
      "Requirement already satisfied: tzdata>=2022.1 in /opt/homebrew/lib/python3.11/site-packages (from pandas) (2023.3)\n",
      "Requirement already satisfied: six>=1.5 in /opt/homebrew/lib/python3.11/site-packages (from python-dateutil>=2.8.2->pandas) (1.16.0)\n",
      "Note: you may need to restart the kernel to use updated packages.\n"
     ]
    }
   ],
   "source": [
    "pip install pandas"
   ]
  },
  {
   "cell_type": "markdown",
   "id": "a85b6137-ce80-4933-b1a2-93bb7e6aa1bd",
   "metadata": {},
   "source": [
    "install lxml"
   ]
  },
  {
   "cell_type": "code",
   "execution_count": 9,
   "id": "4baa97ad-d62e-4890-a827-afba8d8aa295",
   "metadata": {},
   "outputs": [
    {
     "name": "stdout",
     "output_type": "stream",
     "text": [
      "Collecting lxml\n",
      "  Downloading lxml-5.1.0-cp311-cp311-macosx_11_0_arm64.whl.metadata (3.5 kB)\n",
      "Downloading lxml-5.1.0-cp311-cp311-macosx_11_0_arm64.whl (4.5 MB)\n",
      "\u001b[2K   \u001b[90m━━━━━━━━━━━━━━━━━━━━━━━━━━━━━━━━━━━━━━━━\u001b[0m \u001b[32m4.5/4.5 MB\u001b[0m \u001b[31m4.1 MB/s\u001b[0m eta \u001b[36m0:00:00\u001b[0m00:01\u001b[0m00:01\u001b[0m\n",
      "\u001b[?25hInstalling collected packages: lxml\n",
      "Successfully installed lxml-5.1.0\n",
      "Note: you may need to restart the kernel to use updated packages.\n"
     ]
    }
   ],
   "source": [
    "pip install lxml\n"
   ]
  },
  {
   "cell_type": "markdown",
   "id": "95c46c93-d862-413a-a195-198fecb55139",
   "metadata": {},
   "source": [
    "# Import Pandas\n",
    "Use Function read_html() to extract table from the website"
   ]
  },
  {
   "cell_type": "code",
   "execution_count": 10,
   "id": "be028b0a-f9d5-49a5-8883-a126cd8e1252",
   "metadata": {},
   "outputs": [],
   "source": [
    "import pandas as pd"
   ]
  },
  {
   "cell_type": "code",
   "execution_count": 11,
   "id": "4244843d-6337-4561-8640-6f7bc9b0669c",
   "metadata": {},
   "outputs": [],
   "source": [
    "cars = pd.read_html('https://en.wikipedia.org/wiki/Production_car_speed_record')"
   ]
  },
  {
   "cell_type": "code",
   "execution_count": 30,
   "id": "69b198cf-02ab-48c4-a965-f6d3b285578e",
   "metadata": {},
   "outputs": [
    {
     "name": "stdout",
     "output_type": "stream",
     "text": [
      "number of tables:  7\n"
     ]
    }
   ],
   "source": [
    "print(\"number of tables: \", len(cars))\n"
   ]
  },
  {
   "cell_type": "code",
   "execution_count": 32,
   "id": "9fc8670a-74b3-44c5-b0fe-44d8b1b7c609",
   "metadata": {},
   "outputs": [
    {
     "name": "stdout",
     "output_type": "stream",
     "text": [
      "Table 1:\n"
     ]
    }
   ],
   "source": [
    "print(\"Table 1:\")"
   ]
  },
  {
   "cell_type": "code",
   "execution_count": 34,
   "id": "bb116af7-0e5b-47fd-b994-38a946f73e4d",
   "metadata": {},
   "outputs": [
    {
     "name": "stdout",
     "output_type": "stream",
     "text": [
      "    Year                   Make and model                   Top speed  \\\n",
      "0   1894                        Benz Velo         20 km/h (12 mph)[3]   \n",
      "1   1949                     Jaguar XK120   200.5 km/h (124.6 mph)[4]   \n",
      "2   1955              Mercedes-Benz 300SL   242.5 km/h (150.7 mph)[6]   \n",
      "3   1959              Aston Martin DB4 GT       245 km/h (152 mph)[7]   \n",
      "4   1963                 Iso Grifo GL 365       259 km/h (161 mph)[8]   \n",
      "5   1965              AC Cobra Mk III 427      266 km/h (165 mph)[10]   \n",
      "6   1967           Lamborghini Miura P400      275 km/h (171 mph)[11]   \n",
      "7   1968        Ferrari 365 GTB/4 Daytona      280 km/h (174 mph)[12]   \n",
      "8   1969          Lamborghini Miura P400S  288.6 km/h (179.3 mph)[13]   \n",
      "9   1982     Lamborghini Countach LP500 S      293 km/h (182 mph)[14]   \n",
      "10  1983                          Ruf BTR      305 km/h (190 mph)[15]   \n",
      "11  1986                      Porsche 959      319 km/h (198 mph)[16]   \n",
      "12  1987                          Ruf CTR      342 km/h (213 mph)[17]   \n",
      "13  1993                Dauer 962 Le Mans  404.6 km/h (251.4 mph)[20]   \n",
      "14  2005           Bugatti Veyron EB 16.4    408.47 km/h (253.81 mph)   \n",
      "15  2007                SSC Ultimate Aero    412.22 km/h (256.14 mph)   \n",
      "16  2010  Bugatti Veyron 16.4 Super Sport  431.072 km/h (267.856 mph)   \n",
      "17  2017              Koenigsegg Agera RS    447.19 km/h (277.87 mph)   \n",
      "\n",
      "                                               Engine Number built  \\\n",
      "0   1,045 cm3 (63.8 cu in) single-cylinder 1.1 kW ...         1200   \n",
      "1   3,442 cm3 (210.0 cu in) inline-6 119 kW (162 P...        12000   \n",
      "2   2,996 cm3 (182.8 cu in) inline-6 158 kW (215 P...         1400   \n",
      "3   3,670 cm3 (224 cu in) inline-6 225 kW (306 PS;...           75   \n",
      "4   5,354 cm3 (326.7 cu in) V8 268 kW (365 PS; 360...     over 400   \n",
      "5   6,998 cm3 (427.0 cu in) V8 362 kW (492 PS; 485...          >25   \n",
      "6   3,929 cm3 (239.8 cu in) V12 261 kW (355 PS; 35...          275   \n",
      "7   4,390 cm3 (268 cu in) V12 262 kW (357 PS; 352 hp)  about 1,400   \n",
      "8   3,929 cm3 (239.8 cu in) V12 276 kW (375 PS; 37...          338   \n",
      "9   4,754 cm3 (290.1 cu in) V12 280 kW (380 PS; 37...          323   \n",
      "10  3,367 cm3 (205.5 cu in) turbocharged flat-6 27...  about 20–30   \n",
      "11  2,849 cm3 (173.9 cu in) twin-turbocharged flat...          337   \n",
      "12  3,367 cm3 (205.5 cu in) twin-turbocharged flat...       29[19]   \n",
      "13  2,994 cm3 (182.7 cu in) twin-turbocharged flat...           13   \n",
      "14  7,993 cm3 (487.8 cu in) quad-turbocharged W16 ...          300   \n",
      "15                     6.3-liter twin turbo V8 engine            5   \n",
      "16  7,993 cm3 (487.8 cu in) quad-turbocharged W16 ...           30   \n",
      "17  5,000 cm3 (310 cu in) twin-turbocharged V8 1,0...           25   \n",
      "\n",
      "                                              Comment  \n",
      "0                                First production car  \n",
      "1   Some publications cite the XK120's timed top s...  \n",
      "2   Two-way average speed tested by Automobil Revu...  \n",
      "3               Tested by Autosport in December 1961.  \n",
      "4   Tested by Autocar in 1966. A total of 412 Iso ...  \n",
      "5   Tested by Car & Driver. Top speed described as...  \n",
      "6   Tested by Motor in June 1967. Over 750 units b...  \n",
      "7                          Tested by Autocar in 1971.  \n",
      "8                       Tested by Sport Auto in 1970.  \n",
      "9                     Tested by Auto, Motor und Sport  \n",
      "10  Tested by Auto, Motor und Sport, about 20-30 b...  \n",
      "11  Tested by Road & Track in 1987. The 959 Deluxe...  \n",
      "12  Tested by Auto, Motor und Sport at Nardò Ring ...  \n",
      "13  Independently measured at Ehra-Lessien in Nove...  \n",
      "14  Recorded and verified by German inspection off...  \n",
      "15  Inspected and verified by Guinness World Recor...  \n",
      "16  Out of the initial production run of 30 cars, ...  \n",
      "17  The base engine is rated at 865 kW (1,176 PS; ...  \n"
     ]
    }
   ],
   "source": [
    "print(cars[0])"
   ]
  },
  {
   "cell_type": "code",
   "execution_count": null,
   "id": "03acf17b-d5bb-4ddc-a9c7-6b242c0ac4c6",
   "metadata": {},
   "outputs": [],
   "source": []
  }
 ],
 "metadata": {
  "kernelspec": {
   "display_name": "Python 3 (ipykernel)",
   "language": "python",
   "name": "python3"
  },
  "language_info": {
   "codemirror_mode": {
    "name": "ipython",
    "version": 3
   },
   "file_extension": ".py",
   "mimetype": "text/x-python",
   "name": "python",
   "nbconvert_exporter": "python",
   "pygments_lexer": "ipython3",
   "version": "3.11.6"
  }
 },
 "nbformat": 4,
 "nbformat_minor": 5
}
